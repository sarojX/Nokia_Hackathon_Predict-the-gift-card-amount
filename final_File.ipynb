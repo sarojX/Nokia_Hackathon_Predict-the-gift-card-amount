{
 "cells": [
  {
   "cell_type": "code",
   "execution_count": 1,
   "metadata": {},
   "outputs": [],
   "source": [
    "import pandas as pd\n",
    "import numpy as np"
   ]
  },
  {
   "cell_type": "code",
   "execution_count": 2,
   "metadata": {},
   "outputs": [],
   "source": [
    "dfx=pd.read_csv(\"train.csv\",parse_dates=['Sign_up_date', 'Last_order_placed_date' ])\n",
    "dfx_ans1=dfx['Gift_card_amount']\n",
    "dfx=dfx.drop(['Gift_card_amount'], axis=1)"
   ]
  },
  {
   "cell_type": "code",
   "execution_count": 3,
   "metadata": {},
   "outputs": [],
   "source": [
    "dfx_ans = dfx_ans1.values.reshape(-1,1)"
   ]
  },
  {
   "cell_type": "code",
   "execution_count": 4,
   "metadata": {},
   "outputs": [],
   "source": [
    "dfy=pd.read_csv('test.csv',parse_dates=['Sign_up_date', 'Last_order_placed_date' ])\n",
    "sample1 = dfy['Customer_ID']"
   ]
  },
  {
   "cell_type": "code",
   "execution_count": 5,
   "metadata": {},
   "outputs": [],
   "source": [
    "dfz = pd.concat([dfx,dfy])"
   ]
  },
  {
   "cell_type": "code",
   "execution_count": 6,
   "metadata": {},
   "outputs": [],
   "source": [
    "# dfz.shape"
   ]
  },
  {
   "cell_type": "code",
   "execution_count": 7,
   "metadata": {},
   "outputs": [
    {
     "data": {
      "text/html": [
       "<div>\n",
       "<style scoped>\n",
       "    .dataframe tbody tr th:only-of-type {\n",
       "        vertical-align: middle;\n",
       "    }\n",
       "\n",
       "    .dataframe tbody tr th {\n",
       "        vertical-align: top;\n",
       "    }\n",
       "\n",
       "    .dataframe thead th {\n",
       "        text-align: right;\n",
       "    }\n",
       "</style>\n",
       "<table border=\"1\" class=\"dataframe\">\n",
       "  <thead>\n",
       "    <tr style=\"text-align: right;\">\n",
       "      <th></th>\n",
       "      <th>No_of_orders_placed</th>\n",
       "      <th>Maximum_bill</th>\n",
       "      <th>Minimum_bill</th>\n",
       "      <th>No_of_Review_given</th>\n",
       "      <th>No_of_Comment_added</th>\n",
       "      <th>No_of_Images_added</th>\n",
       "      <th>No_of_issues_raised</th>\n",
       "      <th>Orders_returned</th>\n",
       "    </tr>\n",
       "  </thead>\n",
       "  <tbody>\n",
       "    <tr>\n",
       "      <th>count</th>\n",
       "      <td>15398.000000</td>\n",
       "      <td>14943.000000</td>\n",
       "      <td>15398.000000</td>\n",
       "      <td>14865.000000</td>\n",
       "      <td>15398.000000</td>\n",
       "      <td>14793.000000</td>\n",
       "      <td>15398.000000</td>\n",
       "      <td>15398.000000</td>\n",
       "    </tr>\n",
       "    <tr>\n",
       "      <th>mean</th>\n",
       "      <td>124.720029</td>\n",
       "      <td>893.964732</td>\n",
       "      <td>188.277332</td>\n",
       "      <td>53.548402</td>\n",
       "      <td>22.875049</td>\n",
       "      <td>13.212939</td>\n",
       "      <td>17.417002</td>\n",
       "      <td>3.422847</td>\n",
       "    </tr>\n",
       "    <tr>\n",
       "      <th>std</th>\n",
       "      <td>103.108873</td>\n",
       "      <td>655.554747</td>\n",
       "      <td>68.156231</td>\n",
       "      <td>44.816593</td>\n",
       "      <td>20.060643</td>\n",
       "      <td>12.452862</td>\n",
       "      <td>17.767398</td>\n",
       "      <td>4.337546</td>\n",
       "    </tr>\n",
       "    <tr>\n",
       "      <th>min</th>\n",
       "      <td>20.000000</td>\n",
       "      <td>73.890000</td>\n",
       "      <td>75.000000</td>\n",
       "      <td>6.000000</td>\n",
       "      <td>2.000000</td>\n",
       "      <td>1.000000</td>\n",
       "      <td>0.000000</td>\n",
       "      <td>0.000000</td>\n",
       "    </tr>\n",
       "    <tr>\n",
       "      <th>25%</th>\n",
       "      <td>48.000000</td>\n",
       "      <td>400.730000</td>\n",
       "      <td>131.000000</td>\n",
       "      <td>20.000000</td>\n",
       "      <td>8.000000</td>\n",
       "      <td>4.000000</td>\n",
       "      <td>5.000000</td>\n",
       "      <td>0.000000</td>\n",
       "    </tr>\n",
       "    <tr>\n",
       "      <th>50%</th>\n",
       "      <td>74.000000</td>\n",
       "      <td>725.120000</td>\n",
       "      <td>184.770000</td>\n",
       "      <td>33.000000</td>\n",
       "      <td>14.000000</td>\n",
       "      <td>8.000000</td>\n",
       "      <td>10.000000</td>\n",
       "      <td>2.000000</td>\n",
       "    </tr>\n",
       "    <tr>\n",
       "      <th>75%</th>\n",
       "      <td>197.000000</td>\n",
       "      <td>1131.425000</td>\n",
       "      <td>236.370000</td>\n",
       "      <td>82.000000</td>\n",
       "      <td>35.000000</td>\n",
       "      <td>19.000000</td>\n",
       "      <td>23.000000</td>\n",
       "      <td>4.000000</td>\n",
       "    </tr>\n",
       "    <tr>\n",
       "      <th>max</th>\n",
       "      <td>779.000000</td>\n",
       "      <td>2672.840000</td>\n",
       "      <td>344.990000</td>\n",
       "      <td>201.000000</td>\n",
       "      <td>132.000000</td>\n",
       "      <td>62.000000</td>\n",
       "      <td>163.000000</td>\n",
       "      <td>39.000000</td>\n",
       "    </tr>\n",
       "  </tbody>\n",
       "</table>\n",
       "</div>"
      ],
      "text/plain": [
       "       No_of_orders_placed  Maximum_bill  Minimum_bill  No_of_Review_given  \\\n",
       "count         15398.000000  14943.000000  15398.000000        14865.000000   \n",
       "mean            124.720029    893.964732    188.277332           53.548402   \n",
       "std             103.108873    655.554747     68.156231           44.816593   \n",
       "min              20.000000     73.890000     75.000000            6.000000   \n",
       "25%              48.000000    400.730000    131.000000           20.000000   \n",
       "50%              74.000000    725.120000    184.770000           33.000000   \n",
       "75%             197.000000   1131.425000    236.370000           82.000000   \n",
       "max             779.000000   2672.840000    344.990000          201.000000   \n",
       "\n",
       "       No_of_Comment_added  No_of_Images_added  No_of_issues_raised  \\\n",
       "count         15398.000000        14793.000000         15398.000000   \n",
       "mean             22.875049           13.212939            17.417002   \n",
       "std              20.060643           12.452862            17.767398   \n",
       "min               2.000000            1.000000             0.000000   \n",
       "25%               8.000000            4.000000             5.000000   \n",
       "50%              14.000000            8.000000            10.000000   \n",
       "75%              35.000000           19.000000            23.000000   \n",
       "max             132.000000           62.000000           163.000000   \n",
       "\n",
       "       Orders_returned  \n",
       "count     15398.000000  \n",
       "mean          3.422847  \n",
       "std           4.337546  \n",
       "min           0.000000  \n",
       "25%           0.000000  \n",
       "50%           2.000000  \n",
       "75%           4.000000  \n",
       "max          39.000000  "
      ]
     },
     "execution_count": 7,
     "metadata": {},
     "output_type": "execute_result"
    }
   ],
   "source": [
    "dfz.describe()"
   ]
  },
  {
   "cell_type": "code",
   "execution_count": 8,
   "metadata": {},
   "outputs": [
    {
     "data": {
      "text/plain": [
       "Customer_ID                 0\n",
       "Sign_up_date              300\n",
       "Last_order_placed_date    380\n",
       "No_of_orders_placed         0\n",
       "Maximum_bill              455\n",
       "Minimum_bill                0\n",
       "No_of_Review_given        533\n",
       "No_of_Comment_added         0\n",
       "No_of_Images_added        605\n",
       "No_of_issues_raised         0\n",
       "Orders_returned             0\n",
       "Category_of_customers     752\n",
       "Gender                      0\n",
       "Premium                     0\n",
       "dtype: int64"
      ]
     },
     "execution_count": 8,
     "metadata": {},
     "output_type": "execute_result"
    }
   ],
   "source": [
    "dfz.isnull().sum()"
   ]
  },
  {
   "cell_type": "code",
   "execution_count": 9,
   "metadata": {},
   "outputs": [],
   "source": [
    "def impute_nan(df,variable):\n",
    "#     df[variable+\"_median\"]=df[variable].fillna(median)\n",
    "    df[variable+\"_random\"]=df[variable]\n",
    "    random_sample=df[variable].dropna().sample(df[variable].isnull().sum(), random_state=0)\n",
    "    random_sample.index=df[df[variable].isnull()].index\n",
    "    df.loc[df[variable].isnull(),variable+\"_random\"]=random_sample"
   ]
  },
  {
   "cell_type": "code",
   "execution_count": 10,
   "metadata": {},
   "outputs": [],
   "source": [
    "for feature in ['Sign_up_date', 'Last_order_placed_date', 'Maximum_bill', 'No_of_Review_given', 'No_of_Images_added',\n",
    "                  'Category_of_customers']:\n",
    "    impute_nan(dfz, feature)"
   ]
  },
  {
   "cell_type": "code",
   "execution_count": 11,
   "metadata": {},
   "outputs": [],
   "source": [
    "dfz = dfz.drop( ['Sign_up_date', 'Last_order_placed_date', 'Maximum_bill', 'No_of_Review_given', 'No_of_Images_added',\n",
    "                  'Category_of_customers'] , axis=1)"
   ]
  },
  {
   "cell_type": "code",
   "execution_count": 12,
   "metadata": {},
   "outputs": [],
   "source": [
    "dfz['Sign_up_date_modified']=((pd.to_datetime(\"2021-11-25\")-dfz['Sign_up_date_random'])/np.timedelta64(1,'Y'))\n",
    "dfz['Last_order_placed_date_modified']=((pd.to_datetime(\"2021-11-25\")-dfz['Last_order_placed_date_random'])/np.timedelta64(1,'Y'))\n",
    "\n",
    "dfz = dfz.drop([\"Customer_ID\",\"Sign_up_date_random\",\"Last_order_placed_date_random\"], axis=1)"
   ]
  },
  {
   "cell_type": "code",
   "execution_count": 13,
   "metadata": {},
   "outputs": [],
   "source": [
    "dfz = pd.get_dummies(dfz, columns=['Category_of_customers_random'], drop_first=True)"
   ]
  },
  {
   "cell_type": "code",
   "execution_count": 14,
   "metadata": {},
   "outputs": [
    {
     "data": {
      "text/html": [
       "<div>\n",
       "<style scoped>\n",
       "    .dataframe tbody tr th:only-of-type {\n",
       "        vertical-align: middle;\n",
       "    }\n",
       "\n",
       "    .dataframe tbody tr th {\n",
       "        vertical-align: top;\n",
       "    }\n",
       "\n",
       "    .dataframe thead th {\n",
       "        text-align: right;\n",
       "    }\n",
       "</style>\n",
       "<table border=\"1\" class=\"dataframe\">\n",
       "  <thead>\n",
       "    <tr style=\"text-align: right;\">\n",
       "      <th></th>\n",
       "      <th>No_of_orders_placed</th>\n",
       "      <th>Minimum_bill</th>\n",
       "      <th>No_of_Comment_added</th>\n",
       "      <th>No_of_issues_raised</th>\n",
       "      <th>Orders_returned</th>\n",
       "      <th>Gender</th>\n",
       "      <th>Premium</th>\n",
       "      <th>Maximum_bill_random</th>\n",
       "      <th>No_of_Review_given_random</th>\n",
       "      <th>No_of_Images_added_random</th>\n",
       "      <th>Sign_up_date_modified</th>\n",
       "      <th>Last_order_placed_date_modified</th>\n",
       "      <th>Category_of_customers_random_Inactive</th>\n",
       "      <th>Category_of_customers_random_Passive</th>\n",
       "    </tr>\n",
       "  </thead>\n",
       "  <tbody>\n",
       "    <tr>\n",
       "      <th>0</th>\n",
       "      <td>152</td>\n",
       "      <td>161.37</td>\n",
       "      <td>29</td>\n",
       "      <td>33</td>\n",
       "      <td>4</td>\n",
       "      <td>Female</td>\n",
       "      <td>No</td>\n",
       "      <td>664.04</td>\n",
       "      <td>76.0</td>\n",
       "      <td>31.0</td>\n",
       "      <td>9.174048</td>\n",
       "      <td>0.952676</td>\n",
       "      <td>0</td>\n",
       "      <td>0</td>\n",
       "    </tr>\n",
       "    <tr>\n",
       "      <th>1</th>\n",
       "      <td>59</td>\n",
       "      <td>101.00</td>\n",
       "      <td>7</td>\n",
       "      <td>3</td>\n",
       "      <td>1</td>\n",
       "      <td>Male</td>\n",
       "      <td>No</td>\n",
       "      <td>693.30</td>\n",
       "      <td>31.0</td>\n",
       "      <td>6.0</td>\n",
       "      <td>4.405703</td>\n",
       "      <td>2.570083</td>\n",
       "      <td>0</td>\n",
       "      <td>0</td>\n",
       "    </tr>\n",
       "    <tr>\n",
       "      <th>2</th>\n",
       "      <td>77</td>\n",
       "      <td>217.00</td>\n",
       "      <td>15</td>\n",
       "      <td>10</td>\n",
       "      <td>2</td>\n",
       "      <td>Female</td>\n",
       "      <td>No</td>\n",
       "      <td>907.98</td>\n",
       "      <td>37.0</td>\n",
       "      <td>12.0</td>\n",
       "      <td>7.372453</td>\n",
       "      <td>6.441329</td>\n",
       "      <td>0</td>\n",
       "      <td>1</td>\n",
       "    </tr>\n",
       "    <tr>\n",
       "      <th>3</th>\n",
       "      <td>337</td>\n",
       "      <td>239.43</td>\n",
       "      <td>40</td>\n",
       "      <td>50</td>\n",
       "      <td>19</td>\n",
       "      <td>Male</td>\n",
       "      <td>No</td>\n",
       "      <td>2406.31</td>\n",
       "      <td>153.0</td>\n",
       "      <td>46.0</td>\n",
       "      <td>7.902562</td>\n",
       "      <td>3.539714</td>\n",
       "      <td>0</td>\n",
       "      <td>1</td>\n",
       "    </tr>\n",
       "    <tr>\n",
       "      <th>4</th>\n",
       "      <td>269</td>\n",
       "      <td>182.65</td>\n",
       "      <td>64</td>\n",
       "      <td>38</td>\n",
       "      <td>6</td>\n",
       "      <td>Female</td>\n",
       "      <td>Yes</td>\n",
       "      <td>777.26</td>\n",
       "      <td>93.0</td>\n",
       "      <td>16.0</td>\n",
       "      <td>6.494032</td>\n",
       "      <td>3.374322</td>\n",
       "      <td>0</td>\n",
       "      <td>1</td>\n",
       "    </tr>\n",
       "  </tbody>\n",
       "</table>\n",
       "</div>"
      ],
      "text/plain": [
       "   No_of_orders_placed  Minimum_bill  No_of_Comment_added  \\\n",
       "0                  152        161.37                   29   \n",
       "1                   59        101.00                    7   \n",
       "2                   77        217.00                   15   \n",
       "3                  337        239.43                   40   \n",
       "4                  269        182.65                   64   \n",
       "\n",
       "   No_of_issues_raised  Orders_returned  Gender Premium  Maximum_bill_random  \\\n",
       "0                   33                4  Female      No               664.04   \n",
       "1                    3                1    Male      No               693.30   \n",
       "2                   10                2  Female      No               907.98   \n",
       "3                   50               19    Male      No              2406.31   \n",
       "4                   38                6  Female     Yes               777.26   \n",
       "\n",
       "   No_of_Review_given_random  No_of_Images_added_random  \\\n",
       "0                       76.0                       31.0   \n",
       "1                       31.0                        6.0   \n",
       "2                       37.0                       12.0   \n",
       "3                      153.0                       46.0   \n",
       "4                       93.0                       16.0   \n",
       "\n",
       "   Sign_up_date_modified  Last_order_placed_date_modified  \\\n",
       "0               9.174048                         0.952676   \n",
       "1               4.405703                         2.570083   \n",
       "2               7.372453                         6.441329   \n",
       "3               7.902562                         3.539714   \n",
       "4               6.494032                         3.374322   \n",
       "\n",
       "   Category_of_customers_random_Inactive  Category_of_customers_random_Passive  \n",
       "0                                      0                                     0  \n",
       "1                                      0                                     0  \n",
       "2                                      0                                     1  \n",
       "3                                      0                                     1  \n",
       "4                                      0                                     1  "
      ]
     },
     "execution_count": 14,
     "metadata": {},
     "output_type": "execute_result"
    }
   ],
   "source": [
    "dfz.head()"
   ]
  },
  {
   "cell_type": "code",
   "execution_count": 15,
   "metadata": {},
   "outputs": [],
   "source": [
    "# replace_map = {'Category_of_customers_random': {'Active': 2, 'Passive': 1, 'Inactive':0}}\n",
    "# dfz.replace(replace_map, inplace=True)"
   ]
  },
  {
   "cell_type": "code",
   "execution_count": 16,
   "metadata": {},
   "outputs": [],
   "source": [
    "replace_map = {'Gender': {'Male': 0, 'Female': 1}}\n",
    "dfz.replace(replace_map, inplace=True)"
   ]
  },
  {
   "cell_type": "code",
   "execution_count": 17,
   "metadata": {},
   "outputs": [],
   "source": [
    "replace_map = {'Premium': {'No': 0, 'Yes': 1}}\n",
    "dfz.replace(replace_map, inplace=True)"
   ]
  },
  {
   "cell_type": "code",
   "execution_count": 18,
   "metadata": {},
   "outputs": [],
   "source": [
    "# for i in dfz.columns:\n",
    "#     print(dfz[i].isnull().sum(), dfz[i].dtypes, \"  \", i)"
   ]
  },
  {
   "cell_type": "code",
   "execution_count": 19,
   "metadata": {},
   "outputs": [],
   "source": [
    "# import seaborn as sns\n",
    "# sns.set(rc={'figure.figsize':(18,10)})\n",
    "# sns.heatmap(dfz.corr().abs(),annot=True)"
   ]
  },
  {
   "cell_type": "code",
   "execution_count": 20,
   "metadata": {},
   "outputs": [],
   "source": [
    "# sns.pairplot(data=df, diag_kind='kde')"
   ]
  },
  {
   "cell_type": "code",
   "execution_count": 21,
   "metadata": {},
   "outputs": [],
   "source": [
    "dfz =dfz.drop([\"No_of_Comment_added\", \"No_of_Review_given_random\", \"No_of_Images_added_random\"], axis=1)"
   ]
  },
  {
   "cell_type": "code",
   "execution_count": 22,
   "metadata": {},
   "outputs": [
    {
     "data": {
      "text/plain": [
       "Index(['No_of_orders_placed', 'Minimum_bill', 'No_of_issues_raised',\n",
       "       'Orders_returned', 'Gender', 'Premium', 'Maximum_bill_random',\n",
       "       'Sign_up_date_modified', 'Last_order_placed_date_modified',\n",
       "       'Category_of_customers_random_Inactive',\n",
       "       'Category_of_customers_random_Passive'],\n",
       "      dtype='object')"
      ]
     },
     "execution_count": 22,
     "metadata": {},
     "output_type": "execute_result"
    }
   ],
   "source": [
    "dfz.columns"
   ]
  },
  {
   "cell_type": "code",
   "execution_count": 23,
   "metadata": {},
   "outputs": [],
   "source": [
    "x = [ \"No_of_orders_placed\"]\n",
    "for feat in x:\n",
    "    dfz[feat + \"_sq\"] = (dfz[feat])**2"
   ]
  },
  {
   "cell_type": "code",
   "execution_count": 24,
   "metadata": {},
   "outputs": [],
   "source": [
    "# dfz['op_or'] = (dfz['No_of_orders_placed'])**2 - (dfz['Orders_returned'])**2"
   ]
  },
  {
   "cell_type": "code",
   "execution_count": 25,
   "metadata": {},
   "outputs": [],
   "source": [
    "train1 = dfz.iloc[0:12318]\n",
    "test1 = dfz.iloc[12318: ]"
   ]
  },
  {
   "cell_type": "code",
   "execution_count": 26,
   "metadata": {},
   "outputs": [],
   "source": [
    "# from sklearn.ensemble import ExtraTreesRegressor\n",
    "# model = ExtraTreesRegressor()\n",
    "# model.fit(train1,dfx_ans1)"
   ]
  },
  {
   "cell_type": "code",
   "execution_count": 27,
   "metadata": {},
   "outputs": [],
   "source": [
    "# model.feature_importances_"
   ]
  },
  {
   "cell_type": "code",
   "execution_count": 28,
   "metadata": {},
   "outputs": [],
   "source": [
    "# import matplotlib.pyplot as plt\n",
    "# pd.Series(model.feature_importances_, index=train1.columns).plot(kind='bar',alpha=0.85, rot=90);"
   ]
  },
  {
   "cell_type": "code",
   "execution_count": 29,
   "metadata": {},
   "outputs": [],
   "source": [
    "# dfz = dfz.drop(['Gender', 'Category_of_customers_random_Inactive', 'Orders_returned'], axis=1)      #have no effect"
   ]
  },
  {
   "cell_type": "code",
   "execution_count": 30,
   "metadata": {},
   "outputs": [],
   "source": [
    "X_train = train1\n",
    "y_train = dfx_ans\n",
    "X_test = test1"
   ]
  },
  {
   "cell_type": "code",
   "execution_count": 31,
   "metadata": {},
   "outputs": [],
   "source": [
    "from sklearn.preprocessing import StandardScaler\n",
    "scalerX = StandardScaler().fit(X_train)\n",
    "scalery = StandardScaler().fit(y_train)\n",
    "X_train = scalerX.transform(X_train)\n",
    "y_train = scalery.transform(y_train)\n",
    "X_test = scalerX.transform(X_test)\n",
    "# y_test = scalery.transform(y_test)"
   ]
  },
  {
   "cell_type": "code",
   "execution_count": null,
   "metadata": {},
   "outputs": [],
   "source": []
  },
  {
   "cell_type": "code",
   "execution_count": 32,
   "metadata": {},
   "outputs": [],
   "source": [
    "from sklearn.model_selection import train_test_split\n",
    "xtrain, xtest, ytrain, ytest = train_test_split(X_train,y_train,test_size=0.25,random_state=0)"
   ]
  },
  {
   "cell_type": "code",
   "execution_count": 33,
   "metadata": {},
   "outputs": [],
   "source": [
    "# from sklearn.linear_model import LinearRegression\n",
    "# LR = LinearRegression()\n",
    "# LR.fit(xtrain,ytrain)\n",
    "# LR.score(xtest,ytest)"
   ]
  },
  {
   "cell_type": "code",
   "execution_count": 34,
   "metadata": {},
   "outputs": [],
   "source": [
    "import xgboost as xg"
   ]
  },
  {
   "cell_type": "code",
   "execution_count": 35,
   "metadata": {},
   "outputs": [
    {
     "name": "stdout",
     "output_type": "stream",
     "text": [
      "[16:31:16] WARNING: C:/Users/Administrator/workspace/xgboost-win64_release_1.4.0/src/objective/regression_obj.cu:171: reg:linear is now deprecated in favor of reg:squarederror.\n",
      "r2 score is 0.7158714901768969\n"
     ]
    }
   ],
   "source": [
    "xgb_r = xg.XGBRegressor(objective ='reg:linear',\n",
    "                  n_estimators = 11, seed = 123)\n",
    "xgb_r.fit(xtrain, ytrain)\n",
    "\n",
    "pred = xgb_r.predict(xtest)\n",
    "\n",
    "from sklearn.metrics import r2_score\n",
    "r2 = r2_score(ytest, pred)\n",
    "print('r2 score is', r2)"
   ]
  },
  {
   "cell_type": "code",
   "execution_count": 36,
   "metadata": {},
   "outputs": [],
   "source": [
    "# from sklearn.ensemble import RandomForestRegressor\n",
    "  \n",
    "#  # create regressor object\n",
    "# regressor = RandomForestRegressor(n_estimators = 100, random_state = 0)\n",
    "  \n",
    "# # fit the regressor with x and y data\n",
    "# regressor.fit(xtrain, ytrain)  \n",
    "\n",
    "# pred = regressor.predict(xtest)\n",
    "# r2 = r2_score(ytest, pred)\n",
    "# print('r2 score is', r2)"
   ]
  },
  {
   "cell_type": "code",
   "execution_count": null,
   "metadata": {},
   "outputs": [],
   "source": []
  },
  {
   "cell_type": "code",
   "execution_count": 37,
   "metadata": {},
   "outputs": [],
   "source": [
    "y_pred = xgb_r.predict(X_test)"
   ]
  },
  {
   "cell_type": "code",
   "execution_count": 38,
   "metadata": {},
   "outputs": [],
   "source": [
    "# y_pred = regressor.predict(X_test)"
   ]
  },
  {
   "cell_type": "code",
   "execution_count": 39,
   "metadata": {},
   "outputs": [],
   "source": [
    "y_pred_inverse = scalery.inverse_transform(y_pred)"
   ]
  },
  {
   "cell_type": "code",
   "execution_count": 40,
   "metadata": {},
   "outputs": [
    {
     "data": {
      "text/plain": [
       "array([ 51.95487 ,  46.614983,  74.38918 , ...,  46.86017 , 107.64685 ,\n",
       "       109.05035 ], dtype=float32)"
      ]
     },
     "execution_count": 40,
     "metadata": {},
     "output_type": "execute_result"
    }
   ],
   "source": [
    "y_pred_inverse"
   ]
  },
  {
   "cell_type": "code",
   "execution_count": 41,
   "metadata": {},
   "outputs": [],
   "source": [
    "sample2=pd.DataFrame(y_pred_inverse)"
   ]
  },
  {
   "cell_type": "code",
   "execution_count": 42,
   "metadata": {},
   "outputs": [],
   "source": [
    "sample=pd.concat([sample1, sample2], join = 'outer', axis = 1)"
   ]
  },
  {
   "cell_type": "code",
   "execution_count": 43,
   "metadata": {},
   "outputs": [],
   "source": [
    "sample.columns = ['Customer_ID','Gift_card_amount']"
   ]
  },
  {
   "cell_type": "code",
   "execution_count": 44,
   "metadata": {},
   "outputs": [],
   "source": [
    "sample_data = sample.to_csv('sample1.csv', index = False)"
   ]
  },
  {
   "cell_type": "code",
   "execution_count": 45,
   "metadata": {},
   "outputs": [
    {
     "data": {
      "text/html": [
       "<div>\n",
       "<style scoped>\n",
       "    .dataframe tbody tr th:only-of-type {\n",
       "        vertical-align: middle;\n",
       "    }\n",
       "\n",
       "    .dataframe tbody tr th {\n",
       "        vertical-align: top;\n",
       "    }\n",
       "\n",
       "    .dataframe thead th {\n",
       "        text-align: right;\n",
       "    }\n",
       "</style>\n",
       "<table border=\"1\" class=\"dataframe\">\n",
       "  <thead>\n",
       "    <tr style=\"text-align: right;\">\n",
       "      <th></th>\n",
       "      <th>Customer_ID</th>\n",
       "      <th>Gift_card_amount</th>\n",
       "    </tr>\n",
       "  </thead>\n",
       "  <tbody>\n",
       "    <tr>\n",
       "      <th>0</th>\n",
       "      <td>ID0x163e</td>\n",
       "      <td>51.954868</td>\n",
       "    </tr>\n",
       "    <tr>\n",
       "      <th>1</th>\n",
       "      <td>ID0x22c3</td>\n",
       "      <td>46.614983</td>\n",
       "    </tr>\n",
       "    <tr>\n",
       "      <th>2</th>\n",
       "      <td>ID0x3d79</td>\n",
       "      <td>74.389183</td>\n",
       "    </tr>\n",
       "    <tr>\n",
       "      <th>3</th>\n",
       "      <td>ID0x25f1</td>\n",
       "      <td>51.350250</td>\n",
       "    </tr>\n",
       "    <tr>\n",
       "      <th>4</th>\n",
       "      <td>ID0x1fa5</td>\n",
       "      <td>50.698963</td>\n",
       "    </tr>\n",
       "    <tr>\n",
       "      <th>...</th>\n",
       "      <td>...</td>\n",
       "      <td>...</td>\n",
       "    </tr>\n",
       "    <tr>\n",
       "      <th>3075</th>\n",
       "      <td>ID0xe3d</td>\n",
       "      <td>49.302803</td>\n",
       "    </tr>\n",
       "    <tr>\n",
       "      <th>3076</th>\n",
       "      <td>ID0x554</td>\n",
       "      <td>46.614983</td>\n",
       "    </tr>\n",
       "    <tr>\n",
       "      <th>3077</th>\n",
       "      <td>ID0x1f0f</td>\n",
       "      <td>46.860168</td>\n",
       "    </tr>\n",
       "    <tr>\n",
       "      <th>3078</th>\n",
       "      <td>ID0x5ff</td>\n",
       "      <td>107.646851</td>\n",
       "    </tr>\n",
       "    <tr>\n",
       "      <th>3079</th>\n",
       "      <td>ID0x22f5</td>\n",
       "      <td>109.050346</td>\n",
       "    </tr>\n",
       "  </tbody>\n",
       "</table>\n",
       "<p>3080 rows × 2 columns</p>\n",
       "</div>"
      ],
      "text/plain": [
       "     Customer_ID  Gift_card_amount\n",
       "0       ID0x163e         51.954868\n",
       "1       ID0x22c3         46.614983\n",
       "2       ID0x3d79         74.389183\n",
       "3       ID0x25f1         51.350250\n",
       "4       ID0x1fa5         50.698963\n",
       "...          ...               ...\n",
       "3075     ID0xe3d         49.302803\n",
       "3076     ID0x554         46.614983\n",
       "3077    ID0x1f0f         46.860168\n",
       "3078     ID0x5ff        107.646851\n",
       "3079    ID0x22f5        109.050346\n",
       "\n",
       "[3080 rows x 2 columns]"
      ]
     },
     "execution_count": 45,
     "metadata": {},
     "output_type": "execute_result"
    }
   ],
   "source": [
    "sample"
   ]
  },
  {
   "cell_type": "code",
   "execution_count": null,
   "metadata": {},
   "outputs": [],
   "source": []
  }
 ],
 "metadata": {
  "kernelspec": {
   "display_name": "Python 3",
   "language": "python",
   "name": "python3"
  },
  "language_info": {
   "codemirror_mode": {
    "name": "ipython",
    "version": 3
   },
   "file_extension": ".py",
   "mimetype": "text/x-python",
   "name": "python",
   "nbconvert_exporter": "python",
   "pygments_lexer": "ipython3",
   "version": "3.8.5"
  }
 },
 "nbformat": 4,
 "nbformat_minor": 4
}
